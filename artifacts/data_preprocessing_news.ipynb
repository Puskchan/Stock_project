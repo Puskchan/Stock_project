{
 "cells": [
  {
   "cell_type": "markdown",
   "metadata": {},
   "source": [
    "We will start processing the news data in this notebook. I have done some work here -\n",
    "1. Added symbol column (my mistake while building the dataset and then my api tokens got empty)\n",
    "2. Translated all the useful data into english for analysis (done through google sheets - might implement it here through API or would fix the language to english in news api)"
   ]
  },
  {
   "cell_type": "code",
   "execution_count": 51,
   "metadata": {},
   "outputs": [],
   "source": [
    "import pandas as pd\n",
    "import numpy as np\n",
    "import re\n",
    "import nltk\n",
    "from nltk.tokenize import word_tokenize\n",
    "from nltk.corpus import stopwords\n",
    "from nltk.stem import WordNetLemmatizer"
   ]
  },
  {
   "cell_type": "code",
   "execution_count": null,
   "metadata": {},
   "outputs": [],
   "source": [
    "news_data = pd.read_csv('/home/puskchan/Stock_project/data/semi_cleaned_articles.csv')"
   ]
  },
  {
   "cell_type": "code",
   "execution_count": 53,
   "metadata": {},
   "outputs": [
    {
     "data": {
      "text/plain": [
       "(5414, 8)"
      ]
     },
     "execution_count": 53,
     "metadata": {},
     "output_type": "execute_result"
    }
   ],
   "source": [
    "news_data.shape"
   ]
  },
  {
   "cell_type": "code",
   "execution_count": 54,
   "metadata": {},
   "outputs": [
    {
     "name": "stdout",
     "output_type": "stream",
     "text": [
      "<class 'pandas.core.frame.DataFrame'>\n",
      "RangeIndex: 5414 entries, 0 to 5413\n",
      "Data columns (total 8 columns):\n",
      " #   Column          Non-Null Count  Dtype \n",
      "---  ------          --------------  ----- \n",
      " 0   clean_url       5414 non-null   object\n",
      " 1   country         5414 non-null   object\n",
      " 2   excerpt         5414 non-null   object\n",
      " 3   published_date  5414 non-null   object\n",
      " 4   title           5414 non-null   object\n",
      " 5   symbol          5407 non-null   object\n",
      " 6   title_en        5414 non-null   object\n",
      " 7   excerpt_en      5414 non-null   object\n",
      "dtypes: object(8)\n",
      "memory usage: 338.5+ KB\n"
     ]
    }
   ],
   "source": [
    "news_data.info()"
   ]
  },
  {
   "cell_type": "code",
   "execution_count": 55,
   "metadata": {},
   "outputs": [
    {
     "data": {
      "text/plain": [
       "clean_url         0\n",
       "country           0\n",
       "excerpt           0\n",
       "published_date    0\n",
       "title             0\n",
       "symbol            7\n",
       "title_en          0\n",
       "excerpt_en        0\n",
       "dtype: int64"
      ]
     },
     "execution_count": 55,
     "metadata": {},
     "output_type": "execute_result"
    }
   ],
   "source": [
    "news_data.isna().sum()"
   ]
  },
  {
   "cell_type": "code",
   "execution_count": 56,
   "metadata": {},
   "outputs": [],
   "source": [
    "news_data.drop_duplicates(subset=['title_en', 'excerpt_en'], inplace=True)\n",
    "news_data.dropna(subset=['excerpt_en', 'title_en', 'symbol'], inplace=True)  # Ensure no missing text\n"
   ]
  },
  {
   "cell_type": "code",
   "execution_count": 57,
   "metadata": {},
   "outputs": [
    {
     "data": {
      "text/plain": [
       "(4339, 8)"
      ]
     },
     "execution_count": 57,
     "metadata": {},
     "output_type": "execute_result"
    }
   ],
   "source": [
    "news_data.shape"
   ]
  },
  {
   "cell_type": "code",
   "execution_count": 58,
   "metadata": {},
   "outputs": [],
   "source": [
    "news_data['excerpt_en'] = news_data['excerpt_en'].str.lower()\n",
    "news_data['title_en'] = news_data['title_en'].str.lower()\n"
   ]
  },
  {
   "cell_type": "code",
   "execution_count": 59,
   "metadata": {},
   "outputs": [],
   "source": [
    "import re\n",
    "news_data['excerpt_en'] = news_data['excerpt_en'].apply(lambda x: re.sub(r'[^a-z\\s]', '', x))\n",
    "news_data['title_en'] = news_data['title_en'].apply(lambda x: re.sub(r'[^a-z\\s]', '', x))"
   ]
  },
  {
   "cell_type": "code",
   "execution_count": 60,
   "metadata": {},
   "outputs": [],
   "source": [
    "news_data['word_string'] = news_data['excerpt_en'] + news_data['title_en']"
   ]
  },
  {
   "cell_type": "code",
   "execution_count": 61,
   "metadata": {},
   "outputs": [
    {
     "name": "stderr",
     "output_type": "stream",
     "text": [
      "[nltk_data] Downloading package punkt to /home/puskchan/nltk_data...\n",
      "[nltk_data]   Package punkt is already up-to-date!\n",
      "[nltk_data] Downloading package punkt_tab to\n",
      "[nltk_data]     /home/puskchan/nltk_data...\n",
      "[nltk_data]   Package punkt_tab is already up-to-date!\n"
     ]
    }
   ],
   "source": [
    "nltk.download('punkt')\n",
    "nltk.download('punkt_tab')\n",
    "\n",
    "\n",
    "news_data['tokens'] = news_data['word_string'].apply(word_tokenize)\n"
   ]
  },
  {
   "cell_type": "code",
   "execution_count": 62,
   "metadata": {},
   "outputs": [
    {
     "name": "stderr",
     "output_type": "stream",
     "text": [
      "[nltk_data] Downloading package stopwords to\n",
      "[nltk_data]     /home/puskchan/nltk_data...\n",
      "[nltk_data]   Package stopwords is already up-to-date!\n"
     ]
    }
   ],
   "source": [
    "nltk.download('stopwords')\n",
    "\n",
    "stop_words = set(stopwords.words('english'))\n",
    "news_data['tokens'] = news_data['tokens'].apply(lambda x: [word for word in x if word not in stop_words])\n"
   ]
  },
  {
   "cell_type": "code",
   "execution_count": 63,
   "metadata": {},
   "outputs": [
    {
     "name": "stderr",
     "output_type": "stream",
     "text": [
      "[nltk_data] Downloading package wordnet to /home/puskchan/nltk_data...\n",
      "[nltk_data]   Package wordnet is already up-to-date!\n"
     ]
    }
   ],
   "source": [
    "nltk.download('wordnet')\n",
    "\n",
    "lemmatizer = WordNetLemmatizer()\n",
    "news_data['tokens'] = news_data['tokens'].apply(lambda x: [lemmatizer.lemmatize(word) for word in x])\n"
   ]
  },
  {
   "cell_type": "code",
   "execution_count": 64,
   "metadata": {},
   "outputs": [],
   "source": [
    "news_data['cleaned_excerpt'] = news_data['tokens'].apply(lambda x: ' '.join(x))"
   ]
  },
  {
   "cell_type": "code",
   "execution_count": 65,
   "metadata": {},
   "outputs": [],
   "source": [
    "news_data.reset_index(drop=True, inplace=True)"
   ]
  },
  {
   "cell_type": "code",
   "execution_count": 67,
   "metadata": {},
   "outputs": [
    {
     "data": {
      "text/html": [
       "<div>\n",
       "<style scoped>\n",
       "    .dataframe tbody tr th:only-of-type {\n",
       "        vertical-align: middle;\n",
       "    }\n",
       "\n",
       "    .dataframe tbody tr th {\n",
       "        vertical-align: top;\n",
       "    }\n",
       "\n",
       "    .dataframe thead th {\n",
       "        text-align: right;\n",
       "    }\n",
       "</style>\n",
       "<table border=\"1\" class=\"dataframe\">\n",
       "  <thead>\n",
       "    <tr style=\"text-align: right;\">\n",
       "      <th></th>\n",
       "      <th>clean_url</th>\n",
       "      <th>country</th>\n",
       "      <th>excerpt</th>\n",
       "      <th>published_date</th>\n",
       "      <th>title</th>\n",
       "      <th>symbol</th>\n",
       "      <th>title_en</th>\n",
       "      <th>excerpt_en</th>\n",
       "      <th>word_string</th>\n",
       "      <th>tokens</th>\n",
       "      <th>cleaned_excerpt</th>\n",
       "    </tr>\n",
       "  </thead>\n",
       "  <tbody>\n",
       "    <tr>\n",
       "      <th>0</th>\n",
       "      <td>zonebourse.com</td>\n",
       "      <td>FR</td>\n",
       "      <td>Nomura est positif et recommande le titre à l'...</td>\n",
       "      <td>2024-04-29 10:47:12</td>\n",
       "      <td>Bajaj Finserv Ltd. : Nomura persiste à l'achat</td>\n",
       "      <td>BAJFINANCE.NS</td>\n",
       "      <td>bajaj finserv ltd  nomura persists with the pu...</td>\n",
       "      <td>nomura is positive and recommends the stock fo...</td>\n",
       "      <td>nomura is positive and recommends the stock fo...</td>\n",
       "      <td>[nomura, positive, recommends, stock, purchase...</td>\n",
       "      <td>nomura positive recommends stock purchase prev...</td>\n",
       "    </tr>\n",
       "    <tr>\n",
       "      <th>1</th>\n",
       "      <td>livemint.com</td>\n",
       "      <td>IN</td>\n",
       "      <td>Stocks at record high: Bharti Airtel, HCL Tech...</td>\n",
       "      <td>2024-09-13 10:20:09</td>\n",
       "      <td>Stocks at record high: Bharti Airtel, HCL Tech...</td>\n",
       "      <td>BHARTIARTL.NS</td>\n",
       "      <td>stocks at record high bharti airtel hcl tech b...</td>\n",
       "      <td>stocks at record high bharti airtel hcl tech b...</td>\n",
       "      <td>stocks at record high bharti airtel hcl tech b...</td>\n",
       "      <td>[stock, record, high, bharti, airtel, hcl, tec...</td>\n",
       "      <td>stock record high bharti airtel hcl tech bajaj...</td>\n",
       "    </tr>\n",
       "    <tr>\n",
       "      <th>2</th>\n",
       "      <td>moneycontrol.com</td>\n",
       "      <td>IN</td>\n",
       "      <td>The sector is consolidating, with larger playe...</td>\n",
       "      <td>2024-09-25 14:26:00</td>\n",
       "      <td>Daily Voice: Real estate in middle of upcycle ...</td>\n",
       "      <td>BAJFINANCE.NS</td>\n",
       "      <td>daily voice real estate in middle of upcycle a...</td>\n",
       "      <td>the sector is consolidating with larger player...</td>\n",
       "      <td>the sector is consolidating with larger player...</td>\n",
       "      <td>[sector, consolidating, larger, player, gainin...</td>\n",
       "      <td>sector consolidating larger player gaining mar...</td>\n",
       "    </tr>\n",
       "    <tr>\n",
       "      <th>3</th>\n",
       "      <td>coatingsworld.com</td>\n",
       "      <td>US</td>\n",
       "      <td>New CPVC resin plant in Vilayat advances Lubri...</td>\n",
       "      <td>2023-11-22 10:00:44</td>\n",
       "      <td>Lubrizol and Grasim Industries Break Ground on...</td>\n",
       "      <td>GRASIM.NS</td>\n",
       "      <td>lubrizol and grasim industries break ground on...</td>\n",
       "      <td>new cpvc resin plant in vilayat advances lubri...</td>\n",
       "      <td>new cpvc resin plant in vilayat advances lubri...</td>\n",
       "      <td>[new, cpvc, resin, plant, vilayat, advance, lu...</td>\n",
       "      <td>new cpvc resin plant vilayat advance lubrizols...</td>\n",
       "    </tr>\n",
       "    <tr>\n",
       "      <th>4</th>\n",
       "      <td>thehansindia.com</td>\n",
       "      <td>IN</td>\n",
       "      <td>Indian equity indices closed flat on Tuesday a...</td>\n",
       "      <td>2024-09-03 11:11:40</td>\n",
       "      <td>Sensex closes flat, ICICI Bank and Bajaj Finse...</td>\n",
       "      <td>ICICIBANK.NS</td>\n",
       "      <td>sensex closes flat icici bank and bajaj finser...</td>\n",
       "      <td>indian equity indices closed flat on tuesday a...</td>\n",
       "      <td>indian equity indices closed flat on tuesday a...</td>\n",
       "      <td>[indian, equity, index, closed, flat, tuesday,...</td>\n",
       "      <td>indian equity index closed flat tuesday amid m...</td>\n",
       "    </tr>\n",
       "  </tbody>\n",
       "</table>\n",
       "</div>"
      ],
      "text/plain": [
       "           clean_url country  \\\n",
       "0     zonebourse.com      FR   \n",
       "1       livemint.com      IN   \n",
       "2   moneycontrol.com      IN   \n",
       "3  coatingsworld.com      US   \n",
       "4   thehansindia.com      IN   \n",
       "\n",
       "                                             excerpt       published_date  \\\n",
       "0  Nomura est positif et recommande le titre à l'...  2024-04-29 10:47:12   \n",
       "1  Stocks at record high: Bharti Airtel, HCL Tech...  2024-09-13 10:20:09   \n",
       "2  The sector is consolidating, with larger playe...  2024-09-25 14:26:00   \n",
       "3  New CPVC resin plant in Vilayat advances Lubri...  2023-11-22 10:00:44   \n",
       "4  Indian equity indices closed flat on Tuesday a...  2024-09-03 11:11:40   \n",
       "\n",
       "                                               title         symbol  \\\n",
       "0     Bajaj Finserv Ltd. : Nomura persiste à l'achat  BAJFINANCE.NS   \n",
       "1  Stocks at record high: Bharti Airtel, HCL Tech...  BHARTIARTL.NS   \n",
       "2  Daily Voice: Real estate in middle of upcycle ...  BAJFINANCE.NS   \n",
       "3  Lubrizol and Grasim Industries Break Ground on...      GRASIM.NS   \n",
       "4  Sensex closes flat, ICICI Bank and Bajaj Finse...   ICICIBANK.NS   \n",
       "\n",
       "                                            title_en  \\\n",
       "0  bajaj finserv ltd  nomura persists with the pu...   \n",
       "1  stocks at record high bharti airtel hcl tech b...   \n",
       "2  daily voice real estate in middle of upcycle a...   \n",
       "3  lubrizol and grasim industries break ground on...   \n",
       "4  sensex closes flat icici bank and bajaj finser...   \n",
       "\n",
       "                                          excerpt_en  \\\n",
       "0  nomura is positive and recommends the stock fo...   \n",
       "1  stocks at record high bharti airtel hcl tech b...   \n",
       "2  the sector is consolidating with larger player...   \n",
       "3  new cpvc resin plant in vilayat advances lubri...   \n",
       "4  indian equity indices closed flat on tuesday a...   \n",
       "\n",
       "                                         word_string  \\\n",
       "0  nomura is positive and recommends the stock fo...   \n",
       "1  stocks at record high bharti airtel hcl tech b...   \n",
       "2  the sector is consolidating with larger player...   \n",
       "3  new cpvc resin plant in vilayat advances lubri...   \n",
       "4  indian equity indices closed flat on tuesday a...   \n",
       "\n",
       "                                              tokens  \\\n",
       "0  [nomura, positive, recommends, stock, purchase...   \n",
       "1  [stock, record, high, bharti, airtel, hcl, tec...   \n",
       "2  [sector, consolidating, larger, player, gainin...   \n",
       "3  [new, cpvc, resin, plant, vilayat, advance, lu...   \n",
       "4  [indian, equity, index, closed, flat, tuesday,...   \n",
       "\n",
       "                                     cleaned_excerpt  \n",
       "0  nomura positive recommends stock purchase prev...  \n",
       "1  stock record high bharti airtel hcl tech bajaj...  \n",
       "2  sector consolidating larger player gaining mar...  \n",
       "3  new cpvc resin plant vilayat advance lubrizols...  \n",
       "4  indian equity index closed flat tuesday amid m...  "
      ]
     },
     "execution_count": 67,
     "metadata": {},
     "output_type": "execute_result"
    }
   ],
   "source": [
    "news_data.head()"
   ]
  },
  {
   "cell_type": "code",
   "execution_count": 68,
   "metadata": {},
   "outputs": [],
   "source": [
    "news_data.to_csv(\"cleaned_articles.csv\", index=False)"
   ]
  },
  {
   "cell_type": "code",
   "execution_count": null,
   "metadata": {},
   "outputs": [],
   "source": []
  }
 ],
 "metadata": {
  "kernelspec": {
   "display_name": "venv",
   "language": "python",
   "name": "python3"
  },
  "language_info": {
   "codemirror_mode": {
    "name": "ipython",
    "version": 3
   },
   "file_extension": ".py",
   "mimetype": "text/x-python",
   "name": "python",
   "nbconvert_exporter": "python",
   "pygments_lexer": "ipython3",
   "version": "3.10.16"
  }
 },
 "nbformat": 4,
 "nbformat_minor": 2
}
